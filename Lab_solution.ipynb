{
 "cells": [
  {
   "cell_type": "markdown",
   "id": "89c1d817",
   "metadata": {},
   "source": [
    "# Lab on Object Oriented Programming"
   ]
  },
  {
   "cell_type": "code",
   "execution_count": 34,
   "id": "ec9858ef",
   "metadata": {},
   "outputs": [],
   "source": [
    "# Creating the TV class\n",
    "\n",
    "class Tv:\n",
    "    def __init__(self, size):\n",
    "        self.on = False\n",
    "        self.volume = 50.0\n",
    "        self.active_channel = 1\n",
    "        self.input = \"Anthena\"\n",
    "        if size in [42, 50, 55, 65, 75]:\n",
    "            self.size = size\n",
    "            print(f\"Tv size: {self.size}\")\n",
    "        else:\n",
    "            raise ValueError(\"Invalid size. The available sizes are 42, 50, 55, 65, 75\")\n",
    "\n",
    "    def switch_on(self):\n",
    "        self.on = True\n",
    "        print(\"TV is switched on.\")\n",
    "\n",
    "    def switch_off(self):\n",
    "        self.on = False\n",
    "        print(\"TV is switched off.\")\n",
    "\n",
    "    def set_volume(self, volume):\n",
    "        if 0 <= volume <= 100:\n",
    "            self.volume = volume\n",
    "            print(f\"Volume set to {self.volume}.\")\n",
    "        else:\n",
    "            print(\"Invalid volume value. Volume should be between 0 and 100.\")\n",
    "\n",
    "    def change_channel(self, channel):\n",
    "        if 1 <= channel <= 10:\n",
    "            self.active_channel = channel\n",
    "            print(f\"Changed to channel {self.active_channel}.\")\n",
    "        else:\n",
    "            print(\"Invalid channel value. Channel should be between 1 and 10.\")\n",
    "\n",
    "    def set_input(self, value):\n",
    "        valid_inputs = [\"Anthena\", \"HDMI1\", \"HDMI2\", \"HDMI3\"]\n",
    "        if value in valid_inputs:\n",
    "            self.input = value\n",
    "            print(f\"Input set to {self.input}.\")\n",
    "        else:\n",
    "            print(\"Invalid input value.\")\n"
   ]
  },
  {
   "cell_type": "code",
   "execution_count": 36,
   "id": "1dde57be",
   "metadata": {},
   "outputs": [
    {
     "ename": "ValueError",
     "evalue": "Invalid size. The available sizes are 42, 50, 55, 65, 75",
     "output_type": "error",
     "traceback": [
      "\u001b[0;31m---------------------------------------------------------------------------\u001b[0m",
      "\u001b[0;31mValueError\u001b[0m                                Traceback (most recent call last)",
      "Cell \u001b[0;32mIn[36], line 2\u001b[0m\n\u001b[1;32m      1\u001b[0m \u001b[38;5;66;03m# Wrong usage:\u001b[39;00m\n\u001b[0;32m----> 2\u001b[0m tv \u001b[38;5;241m=\u001b[39m \u001b[43mTv\u001b[49m\u001b[43m(\u001b[49m\u001b[38;5;241;43m52\u001b[39;49m\u001b[43m)\u001b[49m\n\u001b[1;32m      3\u001b[0m tv\u001b[38;5;241m.\u001b[39mswitch_on()\n\u001b[1;32m      4\u001b[0m tv\u001b[38;5;241m.\u001b[39mset_volume(\u001b[38;5;241m70\u001b[39m)\n",
      "Cell \u001b[0;32mIn[34], line 11\u001b[0m, in \u001b[0;36mTv.__init__\u001b[0;34m(self, size)\u001b[0m\n\u001b[1;32m      9\u001b[0m     \u001b[38;5;28mprint\u001b[39m(\u001b[38;5;124mf\u001b[39m\u001b[38;5;124m\"\u001b[39m\u001b[38;5;124mTv size: \u001b[39m\u001b[38;5;132;01m{\u001b[39;00m\u001b[38;5;28mself\u001b[39m\u001b[38;5;241m.\u001b[39msize\u001b[38;5;132;01m}\u001b[39;00m\u001b[38;5;124m\"\u001b[39m)\n\u001b[1;32m     10\u001b[0m \u001b[38;5;28;01melse\u001b[39;00m:\n\u001b[0;32m---> 11\u001b[0m     \u001b[38;5;28;01mraise\u001b[39;00m \u001b[38;5;167;01mValueError\u001b[39;00m(\u001b[38;5;124m\"\u001b[39m\u001b[38;5;124mInvalid size. The available sizes are 42, 50, 55, 65, 75\u001b[39m\u001b[38;5;124m\"\u001b[39m)\n",
      "\u001b[0;31mValueError\u001b[0m: Invalid size. The available sizes are 42, 50, 55, 65, 75"
     ]
    }
   ],
   "source": [
    "# Wrong usage:\n",
    "tv = Tv(52)\n",
    "tv.switch_on()\n",
    "tv.set_volume(70)\n",
    "tv.change_channel(5)\n",
    "tv.set_input(\"HDMI2\")\n",
    "tv.switch_off()"
   ]
  },
  {
   "cell_type": "code",
   "execution_count": 37,
   "id": "aa858c3a",
   "metadata": {},
   "outputs": [
    {
     "name": "stdout",
     "output_type": "stream",
     "text": [
      "Tv size: 50\n",
      "TV is switched on.\n",
      "Volume set to 70.\n",
      "Changed to channel 5.\n",
      "Input set to HDMI2.\n",
      "TV is switched off.\n"
     ]
    }
   ],
   "source": [
    "# Good usage:\n",
    "tv = Tv(50)\n",
    "tv.switch_on()\n",
    "tv.set_volume(70)\n",
    "tv.change_channel(5)\n",
    "tv.set_input(\"HDMI2\")\n",
    "tv.switch_off()"
   ]
  }
 ],
 "metadata": {
  "kernelspec": {
   "display_name": "Python 3 (ipykernel)",
   "language": "python",
   "name": "python3"
  },
  "language_info": {
   "codemirror_mode": {
    "name": "ipython",
    "version": 3
   },
   "file_extension": ".py",
   "mimetype": "text/x-python",
   "name": "python",
   "nbconvert_exporter": "python",
   "pygments_lexer": "ipython3",
   "version": "3.10.9"
  }
 },
 "nbformat": 4,
 "nbformat_minor": 5
}
